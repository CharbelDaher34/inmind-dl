{
 "cells": [
  {
   "cell_type": "code",
   "execution_count": 3,
   "metadata": {},
   "outputs": [],
   "source": [
    "import os\n",
    "import shutil\n",
    "\n",
    "\n",
    "def copy_segmentation_data(data_folder, fcn_folder):\n",
    "    # Define file patterns\n",
    "    rgb_pattern = \"rgb_*.png\"\n",
    "    segmentation_image_pattern = \"semantic_segmentation_*.png\"\n",
    "    segmentation_label_pattern = \"semantic_segmentation_labels_*.png\"\n",
    "\n",
    "    # Create the fcn_data directory if it doesn't exist\n",
    "    fcn_data_folder = os.path.join(fcn_folder, \"fcn_data\")\n",
    "    imagesFolder = os.path.join(fcn_data_folder, \"images\")\n",
    "    masksFolder = os.path.join(fcn_data_folder, \"masks\")\n",
    "    labelsFolder = os.path.join(fcn_data_folder, \"labels\")\n",
    "\n",
    "    os.makedirs(fcn_data_folder, exist_ok=True)\n",
    "    os.makedirs(imagesFolder, exist_ok=True)\n",
    "    os.makedirs(masksFolder, exist_ok=True)\n",
    "    os.makedirs(labelsFolder, exist_ok=True)\n",
    "    counter = 0\n",
    "    # Copy RGB images\n",
    "    for file in sorted(os.listdir(data_folder)):\n",
    "        if file.startswith(\"rgb_\") and file.endswith(\".png\"):\n",
    "            shutil.copy(os.path.join(data_folder, file), imagesFolder)\n",
    "            counter = counter + 1\n",
    "\n",
    "        if counter == 100:\n",
    "            break\n",
    "    counter = 0\n",
    "    # Copy segmentation images\n",
    "    for file in sorted(os.listdir(data_folder)):\n",
    "        if file.startswith(\"semantic_segmentation_\") and file.endswith(\".png\"):\n",
    "            shutil.copy(os.path.join(data_folder, file), masksFolder)\n",
    "            counter = counter + 1\n",
    "\n",
    "        if counter == 100:\n",
    "            break\n",
    "    counter = 0\n",
    "    # Copy segmentation labels\n",
    "    for file in sorted(os.listdir(data_folder)):\n",
    "        if file.startswith(\"semantic_segmentation_labels_\") and file.endswith(\".json\"):\n",
    "            shutil.copy(os.path.join(data_folder, file), labelsFolder)\n",
    "            counter = counter + 1\n",
    "\n",
    "        if counter == 100:\n",
    "            break\n",
    "\n",
    "\n",
    "# Example usage\n",
    "data_folder = \"../data\"\n",
    "fcn_folder = \"./\"\n",
    "copy_segmentation_data(data_folder, fcn_folder)"
   ]
  },
  {
   "cell_type": "markdown",
   "metadata": {},
   "source": [
    "# Read all labels"
   ]
  },
  {
   "cell_type": "code",
   "execution_count": 2,
   "metadata": {},
   "outputs": [],
   "source": [
    "import os\n",
    "import json\n",
    "\n",
    "# Directory containing the JSON files\n",
    "directory = \"./fcn_data/labels\"\n",
    "map = {}\n",
    "# Iterate through all files in the directory\n",
    "for filename in os.listdir(directory):\n",
    "    if filename.endswith(\".json\"):\n",
    "        file_path = os.path.join(directory, filename)\n",
    "\n",
    "        # Load the JSON data\n",
    "        with open(file_path) as f:\n",
    "            labels = json.load(f)\n",
    "\n",
    "        # Create a dictionary to hold class and corresponding color\n",
    "        class_color_mapping = {value[\"class\"]: key for key, value in labels.items()}\n",
    "\n",
    "        # Print the class and corresponding color for the current file\n",
    "        for class_name, color in class_color_mapping.items():\n",
    "            if class_name not in map.keys():\n",
    "                map[class_name] = color\n",
    "            elif color != map[class_name]:\n",
    "                print(\"warning\")"
   ]
  },
  {
   "cell_type": "code",
   "execution_count": 6,
   "metadata": {},
   "outputs": [
    {
     "data": {
      "text/plain": [
       "{'BACKGROUND': '(0, 0, 0, 0)',\n",
       " 'UNLABELLED': '(0, 0, 0, 255)',\n",
       " 'iwhub': '(25, 255, 82, 255)',\n",
       " 'dolly': '(25, 82, 255, 255)',\n",
       " 'pallet': '(255, 25, 197, 255)',\n",
       " 'rack': '(140, 255, 25, 255)',\n",
       " 'railing': '(255, 111, 25, 255)',\n",
       " 'floor': '(226, 255, 25, 255)',\n",
       " 'forklift': '(255, 197, 25, 255)',\n",
       " 'crate': '(140, 25, 255, 255)',\n",
       " 'stillage': '(54, 255, 25, 255)'}"
      ]
     },
     "execution_count": 6,
     "metadata": {},
     "output_type": "execute_result"
    }
   ],
   "source": [
    "map"
   ]
  }
 ],
 "metadata": {
  "kernelspec": {
   "display_name": "inmindProjectEnv",
   "language": "python",
   "name": "python3"
  },
  "language_info": {
   "codemirror_mode": {
    "name": "ipython",
    "version": 3
   },
   "file_extension": ".py",
   "mimetype": "text/x-python",
   "name": "python",
   "nbconvert_exporter": "python",
   "pygments_lexer": "ipython3",
   "version": "3.11.9"
  }
 },
 "nbformat": 4,
 "nbformat_minor": 2
}
