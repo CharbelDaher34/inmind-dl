{
 "cells": [
  {
   "cell_type": "code",
   "execution_count": 2,
   "metadata": {},
   "outputs": [],
   "source": [
    "import os\n",
    "import shutil\n",
    "\n",
    "\n",
    "def copy_segmentation_data(data_folder, fcn_folder):\n",
    "    # Define file patterns\n",
    "    rgb_pattern = \"rgb_*.png\"\n",
    "    segmentation_image_pattern = \"semantic_segmentation_*.png\"\n",
    "    segmentation_label_pattern = \"semantic_segmentation_labels_*.png\"\n",
    "\n",
    "    # Create the fcn_data directory if it doesn't exist\n",
    "    fcn_data_folder = os.path.join(fcn_folder, \"fcn_data\")\n",
    "    imagesFolder = os.path.join(fcn_data_folder, \"images\")\n",
    "    masksFolder = os.path.join(fcn_data_folder, \"masks\")\n",
    "    labelsFolder = os.path.join(fcn_data_folder, \"labels\")\n",
    "\n",
    "    os.makedirs(fcn_data_folder, exist_ok=True)\n",
    "    os.makedirs(imagesFolder, exist_ok=True)\n",
    "    os.makedirs(masksFolder, exist_ok=True)\n",
    "    os.makedirs(labelsFolder, exist_ok=True)\n",
    "    counter = 0\n",
    "    # Copy RGB images\n",
    "    for file in sorted(os.listdir(data_folder)):\n",
    "        if file.startswith(\"rgb_\") and file.endswith(\".png\"):\n",
    "            shutil.copy(os.path.join(data_folder, file), imagesFolder)\n",
    "            counter = counter + 1\n",
    "\n",
    "        if counter == 200:\n",
    "            break\n",
    "    counter = 0\n",
    "    # Copy segmentation images\n",
    "    for file in sorted(os.listdir(data_folder)):\n",
    "        if file.startswith(\"semantic_segmentation_\") and file.endswith(\".png\"):\n",
    "            shutil.copy(os.path.join(data_folder, file), masksFolder)\n",
    "            counter = counter + 1\n",
    "\n",
    "        if counter == 200:\n",
    "            break\n",
    "    counter = 0\n",
    "    # Copy segmentation labels\n",
    "    for file in sorted(os.listdir(data_folder)):\n",
    "        if file.startswith(\"semantic_segmentation_labels_\") and file.endswith(\".json\"):\n",
    "            shutil.copy(os.path.join(data_folder, file), labelsFolder)\n",
    "            counter = counter + 1\n",
    "\n",
    "        if counter == 200:\n",
    "            break\n",
    "\n",
    "\n",
    "# Example usage\n",
    "data_folder = \"../data\"\n",
    "fcn_folder = \"./\"\n",
    "copy_segmentation_data(data_folder, fcn_folder)"
   ]
  },
  {
   "cell_type": "code",
   "execution_count": null,
   "metadata": {},
   "outputs": [],
   "source": [
    "import os\n",
    "import json\n",
    "\n",
    "\n",
    "def read_labels(directory):\n",
    "    labels = set()  # Use a set to avoid duplicates\n",
    "    for filename in os.listdir(directory):\n",
    "        if filename.endswith(\".json\"):\n",
    "            with open(os.path.join(directory, filename), \"r\") as file:\n",
    "                data = json.load(file)\n",
    "                for item in data.values():\n",
    "                    labels.add(item[\"class\"])\n",
    "    return labels\n",
    "\n",
    "\n",
    "# Usage\n",
    "labels_directory = \"./fcn_data/labels\"\n",
    "different_labels = read_labels(labels_directory)\n",
    "print(len(different_labels))"
   ]
  },
  {
   "cell_type": "markdown",
   "metadata": {},
   "source": []
  },
  {
   "cell_type": "code",
   "execution_count": null,
   "metadata": {},
   "outputs": [],
   "source": [
    "from PIL import Image\n",
    "\n",
    "img = Image.open(\"./fcn_data/images/rgb_0000.png\")\n",
    "mask = Image.open(\"./fcn_data/masks/semantic_segmentation_0000.png\")"
   ]
  },
  {
   "cell_type": "code",
   "execution_count": null,
   "metadata": {},
   "outputs": [],
   "source": [
    "import torch\n",
    "import numpy as np\n",
    "\n",
    "torch.tensor(np.array(img)).shape"
   ]
  },
  {
   "cell_type": "code",
   "execution_count": null,
   "metadata": {},
   "outputs": [],
   "source": [
    "torch.tensor(np.array(mask)).shape"
   ]
  },
  {
   "cell_type": "code",
   "execution_count": 16,
   "metadata": {},
   "outputs": [],
   "source": [
    "import os\n",
    "import json\n",
    "\n",
    "# Directory containing the JSON files\n",
    "directory = \"./fcn_data/labels\"\n",
    "map = {}\n",
    "# Iterate through all files in the directory\n",
    "for filename in os.listdir(directory):\n",
    "    if filename.endswith(\".json\"):\n",
    "        file_path = os.path.join(directory, filename)\n",
    "\n",
    "        # Load the JSON data\n",
    "        with open(file_path) as f:\n",
    "            labels = json.load(f)\n",
    "\n",
    "        # Create a dictionary to hold class and corresponding color\n",
    "        class_color_mapping = {value[\"class\"]: key for key, value in labels.items()}\n",
    "\n",
    "        # Print the class and corresponding color for the current file\n",
    "        for class_name, color in class_color_mapping.items():\n",
    "            if class_name not in map.keys():\n",
    "                map[class_name] = color\n",
    "            elif color != map[class_name]:\n",
    "                print(\"warning\")"
   ]
  },
  {
   "cell_type": "code",
   "execution_count": 17,
   "metadata": {},
   "outputs": [],
   "source": [
    "a = {key: value for key, value in map.items()}"
   ]
  },
  {
   "cell_type": "code",
   "execution_count": 19,
   "metadata": {},
   "outputs": [],
   "source": [
    "new_data = {key: [int(x) for x in value[1:-1].split(\",\")] for key, value in a.items()}"
   ]
  },
  {
   "cell_type": "code",
   "execution_count": 21,
   "metadata": {},
   "outputs": [
    {
     "data": {
      "text/plain": [
       "[[0, 0, 0, 0],\n",
       " [25, 82, 255, 255],\n",
       " [255, 25, 197, 255],\n",
       " [140, 255, 25, 255],\n",
       " [0, 0, 0, 255],\n",
       " [226, 255, 25, 255],\n",
       " [255, 197, 25, 255],\n",
       " [140, 25, 255, 255],\n",
       " [54, 255, 25, 255],\n",
       " [25, 255, 82, 255],\n",
       " [255, 111, 25, 255]]"
      ]
     },
     "execution_count": 21,
     "metadata": {},
     "output_type": "execute_result"
    }
   ],
   "source": [
    "list(new_data.values())"
   ]
  },
  {
   "cell_type": "code",
   "execution_count": 23,
   "metadata": {},
   "outputs": [],
   "source": [
    "import torch\n",
    "\n",
    "color_map = torch.tensor(\n",
    "    [\n",
    "        [0, 0, 0, 0],\n",
    "        [25, 82, 255, 255],\n",
    "        [255, 25, 197, 255],\n",
    "        [140, 255, 25, 255],\n",
    "        [0, 0, 0, 255],\n",
    "        [226, 255, 25, 255],\n",
    "        [255, 197, 25, 255],\n",
    "        [140, 25, 255, 255],\n",
    "        [54, 255, 25, 255],\n",
    "        [25, 255, 82, 255],\n",
    "        [255, 111, 25, 255],\n",
    "    ]\n",
    ")\n",
    "color_map_rgb = color_map[:, :3]"
   ]
  },
  {
   "cell_type": "code",
   "execution_count": 24,
   "metadata": {},
   "outputs": [
    {
     "data": {
      "text/plain": [
       "tensor([[  0,   0,   0],\n",
       "        [ 25,  82, 255],\n",
       "        [255,  25, 197],\n",
       "        [140, 255,  25],\n",
       "        [  0,   0,   0],\n",
       "        [226, 255,  25],\n",
       "        [255, 197,  25],\n",
       "        [140,  25, 255],\n",
       "        [ 54, 255,  25],\n",
       "        [ 25, 255,  82],\n",
       "        [255, 111,  25]])"
      ]
     },
     "execution_count": 24,
     "metadata": {},
     "output_type": "execute_result"
    }
   ],
   "source": [
    "color_map_rgb"
   ]
  },
  {
   "cell_type": "code",
   "execution_count": null,
   "metadata": {},
   "outputs": [],
   "source": []
  }
 ],
 "metadata": {
  "kernelspec": {
   "display_name": "inmindProjectEnv",
   "language": "python",
   "name": "python3"
  },
  "language_info": {
   "codemirror_mode": {
    "name": "ipython",
    "version": 3
   },
   "file_extension": ".py",
   "mimetype": "text/x-python",
   "name": "python",
   "nbconvert_exporter": "python",
   "pygments_lexer": "ipython3",
   "version": "3.11.9"
  }
 },
 "nbformat": 4,
 "nbformat_minor": 2
}
