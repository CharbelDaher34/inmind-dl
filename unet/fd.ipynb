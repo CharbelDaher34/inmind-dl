{
 "cells": [
  {
   "cell_type": "code",
   "execution_count": 1,
   "metadata": {},
   "outputs": [],
   "source": [
    "import albumentations as A\n",
    "import cv2\n",
    "from model import UNET\n",
    "from dataset import unetDataset\n",
    "from utils import (\n",
    "    get_loaders,\n",
    "    save_predictions_as_imgs,\n",
    "    check_accuracy,\n",
    "    save_checkpoint,\n",
    "    load_checkpoint,\n",
    ")\n",
    "import torch\n",
    "import torch.nn as nn\n",
    "import torch.optim as optim\n",
    "from tqdm import tqdm\n",
    "import itertools\n",
    "\n",
    "\n",
    "##Data loading\n",
    "trainTransform = A.Compose(\n",
    "    [\n",
    "        A.Resize(256, 256),  # Resize images and masks to 256x256\n",
    "        A.RandomCrop(224, 224),  # Randomly crop to 224x224\n",
    "        A.HorizontalFlip(p=0.5),  # 50% chance to flip horizontally\n",
    "        A.VerticalFlip(p=0.5),  # 50% chance to flip vertically\n",
    "        A.RandomRotate90(p=0.5),  # 50% chance to rotate 90 degrees\n",
    "        A.Normalize(),  # Normalization\n",
    "    ],\n",
    ")\n",
    "valTransform = A.Compose(\n",
    "    [\n",
    "        A.Normalize(),\n",
    "    ],\n",
    ")\n",
    "train_loader, val_loader = get_loaders(\n",
    "    \"./train\",\n",
    "    \"./train_masks\",\n",
    "    \"val_images\",\n",
    "    \"val_masks\",\n",
    "    4,\n",
    "    trainTransform,\n",
    "    valTransform,\n",
    "    num_workers=4,\n",
    "    pin_memory=True,\n",
    ")"
   ]
  },
  {
   "cell_type": "code",
   "execution_count": 3,
   "metadata": {},
   "outputs": [
    {
     "ename": "TypeError",
     "evalue": "'DataLoader' object is not subscriptable",
     "output_type": "error",
     "traceback": [
      "\u001b[0;31m---------------------------------------------------------------------------\u001b[0m",
      "\u001b[0;31mTypeError\u001b[0m                                 Traceback (most recent call last)",
      "Cell \u001b[0;32mIn[3], line 1\u001b[0m\n\u001b[0;32m----> 1\u001b[0m \u001b[43mtrain_loader\u001b[49m\u001b[43m[\u001b[49m\u001b[43m:\u001b[49m\u001b[38;5;241;43m2\u001b[39;49m\u001b[43m]\u001b[49m\n",
      "\u001b[0;31mTypeError\u001b[0m: 'DataLoader' object is not subscriptable"
     ]
    }
   ],
   "source": [
    "train_loader[:2]"
   ]
  },
  {
   "cell_type": "code",
   "execution_count": null,
   "metadata": {},
   "outputs": [],
   "source": [
    "train_loader = tqdm(train_loader, desc=\"Training\", unit=\"batch\")\n",
    "val_loader = tqdm(val_loader, desc=\"Validation\", unit=\"batch\")"
   ]
  }
 ],
 "metadata": {
  "kernelspec": {
   "display_name": "Python 3",
   "language": "python",
   "name": "python3"
  },
  "language_info": {
   "codemirror_mode": {
    "name": "ipython",
    "version": 3
   },
   "file_extension": ".py",
   "mimetype": "text/x-python",
   "name": "python",
   "nbconvert_exporter": "python",
   "pygments_lexer": "ipython3",
   "version": "3.11.0rc1"
  }
 },
 "nbformat": 4,
 "nbformat_minor": 2
}
