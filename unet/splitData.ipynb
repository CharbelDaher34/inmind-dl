{
 "cells": [
  {
   "cell_type": "code",
   "execution_count": 2,
   "metadata": {},
   "outputs": [
    {
     "name": "stdout",
     "output_type": "stream",
     "text": [
      "20.0% of images and masks have been moved to val_images and val_masks respectively.\n"
     ]
    }
   ],
   "source": [
    "## Input\n",
    "### Import libraries\n",
    "import os\n",
    "import shutil\n",
    "import random\n",
    "\n",
    "### Setup variables\n",
    "images_folder = \"train\"\n",
    "masks_folder = \"train_masks\"\n",
    "val_images_folder = \"val_images\"\n",
    "val_masks_folder = \"val_masks\"\n",
    "percentage = 0.2  # Adjust the percentage as needed\n",
    "\n",
    "\n",
    "## Model\n",
    "### Create a function to split and save images and masks\n",
    "def split_images_masks(\n",
    "    images_folder, masks_folder, val_images_folder, val_masks_folder, percentage\n",
    "):\n",
    "    # Ensure the new folders exist\n",
    "    os.makedirs(val_images_folder, exist_ok=True)\n",
    "    os.makedirs(val_masks_folder, exist_ok=True)\n",
    "\n",
    "    # Get list of all images and masks\n",
    "    images = [f for f in os.listdir(images_folder) if f.endswith(\".jpg\")]\n",
    "    masks = [f for f in os.listdir(masks_folder) if f.endswith(\"_mask.gif\")]\n",
    "\n",
    "    # Sample a subset of images and masks based on the given percentage\n",
    "    sample_size = int(len(images) * percentage)\n",
    "    sampled_images = random.sample(images, sample_size)\n",
    "\n",
    "    # Move the sampled images and corresponding masks to the validation folders\n",
    "    for image in sampled_images:\n",
    "        # Corresponding mask name\n",
    "        mask_name = image.replace(\".jpg\", \"_mask.gif\")\n",
    "\n",
    "        # Move image\n",
    "        src_image_path = os.path.join(images_folder, image)\n",
    "        dst_image_path = os.path.join(val_images_folder, image)\n",
    "        shutil.move(src_image_path, dst_image_path)\n",
    "\n",
    "        # Move mask\n",
    "        src_mask_path = os.path.join(masks_folder, mask_name)\n",
    "        dst_mask_path = os.path.join(val_masks_folder, mask_name)\n",
    "        shutil.move(src_mask_path, dst_mask_path)\n",
    "\n",
    "\n",
    "# Call the function with the defined parameters\n",
    "split_images_masks(\n",
    "    images_folder, masks_folder, val_images_folder, val_masks_folder, percentage\n",
    ")\n",
    "\n",
    "## Output\n",
    "### Display a confirmation message\n",
    "print(\n",
    "    f\"{percentage*100}% of images and masks have been moved to {val_images_folder} and {val_masks_folder} respectively.\"\n",
    ")"
   ]
  },
  {
   "cell_type": "code",
   "execution_count": null,
   "metadata": {},
   "outputs": [],
   "source": []
  }
 ],
 "metadata": {
  "kernelspec": {
   "display_name": "Python 3",
   "language": "python",
   "name": "python3"
  },
  "language_info": {
   "codemirror_mode": {
    "name": "ipython",
    "version": 3
   },
   "file_extension": ".py",
   "mimetype": "text/x-python",
   "name": "python",
   "nbconvert_exporter": "python",
   "pygments_lexer": "ipython3",
   "version": "3.11.0rc1"
  }
 },
 "nbformat": 4,
 "nbformat_minor": 2
}
