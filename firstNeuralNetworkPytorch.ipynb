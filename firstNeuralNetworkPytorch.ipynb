{
 "cells": [
  {
   "cell_type": "code",
   "execution_count": 1,
   "metadata": {},
   "outputs": [],
   "source": [
    "## Input\n",
    "### Import libraries\n",
    "import torch\n",
    "import torch.nn as nn\n",
    "\n",
    "\n",
    "## Model\n",
    "### Define the neural network\n",
    "class SimpleNN(nn.Module):\n",
    "    def __init__(self):\n",
    "        super(SimpleNN, self).__init__()\n",
    "        self.fc1 = nn.Linear(4, 6)  # First fully connected layer\n",
    "        self.fc2 = nn.Linear(6, 8)  # Second fully connected layer\n",
    "        self.fc3 = nn.Linear(8, 4)  # Second fully connected layer\n",
    "        self.fc4 = nn.Linear(4, 4)  # Second fully connected layer\n",
    "        self.fc5 = nn.Linear(4, 2)  # Second fully connected layer\n",
    "    \n",
    "    \n",
    "        self.relu = nn.ReLU()  # ReLU activation function\n",
    "        self.leaky_relu = nn.LeakyReLU()        \n",
    "        self.tanh = nn.Tanh()  # Tanh activation function\n",
    "        self.sigmoid = nn.Sigmoid()  # Sigmoid activation function\n",
    "        self.softmax = nn.Softmax(dim=1)  # Softmax activation function\n",
    "\n",
    "    def forward(self, x):\n",
    "        x = self.fc1(x)  # Pass through first layer\n",
    "        x = self.leaky_relu(x)  # Apply ReLU activation\n",
    "        x = self.fc2(x)  # Pass through second layer\n",
    "        x = self.tanh(x)  # Apply ReLU activation\n",
    "        x = self.fc3(x)  # Pass through second layer\n",
    "        x = self.sigmoid(x)  # Pass through second layer\n",
    "        x = self.fc4(x)  # Pass through second layer\n",
    "        x = self.relu(x)  # Pass through second layer\n",
    "        x = self.fc5(x)  # Pass through second layer\n",
    "        x = self.softmax(x)  # Pass through second layer\n",
    "        \n",
    "\n",
    "        return x\n",
    "\n",
    "# Create the model instance\n",
    "model = SimpleNN()\n",
    "\n"
   ]
  },
  {
   "cell_type": "code",
   "execution_count": 2,
   "metadata": {},
   "outputs": [],
   "source": [
    "input=[[1,2,3,4.5],[2,4,3,3],[3,4,2,4]]\n",
    "tensors=torch.tensor(input)"
   ]
  },
  {
   "cell_type": "code",
   "execution_count": 3,
   "metadata": {},
   "outputs": [
    {
     "name": "stdout",
     "output_type": "stream",
     "text": [
      "tensor([[0.5835, 0.4165],\n",
      "        [0.5851, 0.4149],\n",
      "        [0.5847, 0.4153]])\n"
     ]
    }
   ],
   "source": [
    "with torch.no_grad():\n",
    "    # Example input\n",
    "\n",
    "    # Forward pass\n",
    "    output = model(tensors)\n",
    "    print(output)"
   ]
  },
  {
   "cell_type": "code",
   "execution_count": 4,
   "metadata": {},
   "outputs": [
    {
     "name": "stdout",
     "output_type": "stream",
     "text": [
      "=================================================================\n",
      "Layer (type:depth-idx)                   Param #\n",
      "=================================================================\n",
      "├─Linear: 1-1                            30\n",
      "├─Linear: 1-2                            56\n",
      "├─Linear: 1-3                            36\n",
      "├─Linear: 1-4                            20\n",
      "├─Linear: 1-5                            10\n",
      "├─ReLU: 1-6                              --\n",
      "├─LeakyReLU: 1-7                         --\n",
      "├─Tanh: 1-8                              --\n",
      "├─Sigmoid: 1-9                           --\n",
      "├─Softmax: 1-10                          --\n",
      "=================================================================\n",
      "Total params: 152\n",
      "Trainable params: 152\n",
      "Non-trainable params: 0\n",
      "=================================================================\n"
     ]
    },
    {
     "data": {
      "text/plain": [
       "=================================================================\n",
       "Layer (type:depth-idx)                   Param #\n",
       "=================================================================\n",
       "├─Linear: 1-1                            30\n",
       "├─Linear: 1-2                            56\n",
       "├─Linear: 1-3                            36\n",
       "├─Linear: 1-4                            20\n",
       "├─Linear: 1-5                            10\n",
       "├─ReLU: 1-6                              --\n",
       "├─LeakyReLU: 1-7                         --\n",
       "├─Tanh: 1-8                              --\n",
       "├─Sigmoid: 1-9                           --\n",
       "├─Softmax: 1-10                          --\n",
       "=================================================================\n",
       "Total params: 152\n",
       "Trainable params: 152\n",
       "Non-trainable params: 0\n",
       "================================================================="
      ]
     },
     "execution_count": 4,
     "metadata": {},
     "output_type": "execute_result"
    }
   ],
   "source": [
    "from torchsummary import summary\n",
    "summary(model)"
   ]
  },
  {
   "cell_type": "code",
   "execution_count": null,
   "metadata": {},
   "outputs": [],
   "source": []
  },
  {
   "cell_type": "markdown",
   "metadata": {},
   "source": [
    "Convolution\n"
   ]
  },
  {
   "cell_type": "code",
   "execution_count": 5,
   "metadata": {},
   "outputs": [],
   "source": [
    "## Input\n",
    "### Import libraries\n",
    "import torch\n",
    "import torch.nn as nn\n",
    "import torch.optim as optim\n",
    "\n",
    "### Setup variables\n",
    "input_channels = 1  # Number of input channels (e.g., grayscale image)\n",
    "conv1_out_channels = 6  # Number of output channels for first convolution\n",
    "conv2_out_channels = 16  # Number of output channels for second convolution\n",
    "kernel_size = 5        # Size of the convolution kernels\n",
    "pool_kernel_size = 2   # Size of the pooling kernels\n",
    "num_classes = 10       # Number of output classes for the fully connected layer\n",
    "\n",
    "## Model\n",
    "### Define the neural network\n",
    "class CustomCNN(nn.Module):\n",
    "    def __init__(self):\n",
    "        super(CustomCNN, self).__init__()\n",
    "        # First Convolutional Layer\n",
    "        self.conv1 = nn.Conv2d(in_channels=1, out_channels=6, kernel_size=5)\n",
    "        self.avg_pool = nn.AvgPool2d(kernel_size=2,stride=2)  # Average Pooling\n",
    "        \n",
    "        # Second Convolutional Layer\n",
    "        self.conv2 = nn.Conv2d(in_channels=6, out_channels=16, kernel_size=5)\n",
    "        self.max_pool = nn.MaxPool2d(kernel_size=2,stride=2)  # Max Pooling\n",
    "    \n",
    "        # Second Convolutional Layer\n",
    "        self.conv3 = nn.Conv2d(in_channels=16, out_channels=120, kernel_size=5)\n",
    "            \n",
    "        # Fully Connected Layer\n",
    "        self.fc1 = nn.Linear(120*1*1, 84)  # Adjust size according to output dimensions\n",
    "        self.fc2 = nn.Linear(84, num_classes)  # Adjust size according to output dimensions\n",
    "\n",
    "    def forward(self, x):\n",
    "        x = self.conv1(x)  # Apply first convolution\n",
    "        x = self.avg_pool(x)  # Apply average pooling\n",
    "        x = self.conv2(x)  # Apply second convolution\n",
    "        x = self.max_pool(x)  # Apply max pooling\n",
    "        x = self.conv3(x)  # Apply max pooling\n",
    "        print(x.shape)  # Debugging: Print tensor shape after conv3\n",
    "\n",
    "        x = torch.flatten(x, 1)\n",
    "        x = self.fc1(x)  # Apply first fully connected layer\n",
    "        x = self.fc2(x)  # Apply second fully connected layer\n",
    "        return x\n",
    "\n",
    "# Create the model instance\n",
    "model = CustomCNN()"
   ]
  },
  {
   "cell_type": "code",
   "execution_count": 6,
   "metadata": {},
   "outputs": [],
   "source": [
    "import numpy as np"
   ]
  },
  {
   "cell_type": "code",
   "execution_count": 7,
   "metadata": {},
   "outputs": [
    {
     "data": {
      "text/plain": [
       "dtype('float64')"
      ]
     },
     "execution_count": 7,
     "metadata": {},
     "output_type": "execute_result"
    }
   ],
   "source": [
    "a=np.ones((32,32)).astype(float)\n",
    "a.dtype"
   ]
  },
  {
   "cell_type": "code",
   "execution_count": 8,
   "metadata": {},
   "outputs": [
    {
     "name": "stdout",
     "output_type": "stream",
     "text": [
      "torch.Size([1, 120, 1, 1])\n",
      "tensor([[-0.0371,  0.0150, -0.0463, -0.0335,  0.0584, -0.0269, -0.0482, -0.0351,\n",
      "         -0.0513, -0.0635]], grad_fn=<AddmmBackward0>)\n"
     ]
    }
   ],
   "source": [
    "example_input = torch.randn(1,input_channels, 32, 32, dtype=torch.float32)\n",
    "\n",
    "# Forward pass\n",
    "output = model(example_input)\n",
    "print(output)\n"
   ]
  },
  {
   "cell_type": "code",
   "execution_count": 10,
   "metadata": {},
   "outputs": [
    {
     "name": "stdout",
     "output_type": "stream",
     "text": [
      "=================================================================\n",
      "Layer (type:depth-idx)                   Param #\n",
      "=================================================================\n",
      "├─Conv2d: 1-1                            156\n",
      "├─AvgPool2d: 1-2                         --\n",
      "├─Conv2d: 1-3                            2,416\n",
      "├─MaxPool2d: 1-4                         --\n",
      "├─Conv2d: 1-5                            48,120\n",
      "├─Linear: 1-6                            10,164\n",
      "├─Linear: 1-7                            850\n",
      "=================================================================\n",
      "Total params: 61,706\n",
      "Trainable params: 61,706\n",
      "Non-trainable params: 0\n",
      "=================================================================\n"
     ]
    },
    {
     "data": {
      "text/plain": [
       "=================================================================\n",
       "Layer (type:depth-idx)                   Param #\n",
       "=================================================================\n",
       "├─Conv2d: 1-1                            156\n",
       "├─AvgPool2d: 1-2                         --\n",
       "├─Conv2d: 1-3                            2,416\n",
       "├─MaxPool2d: 1-4                         --\n",
       "├─Conv2d: 1-5                            48,120\n",
       "├─Linear: 1-6                            10,164\n",
       "├─Linear: 1-7                            850\n",
       "=================================================================\n",
       "Total params: 61,706\n",
       "Trainable params: 61,706\n",
       "Non-trainable params: 0\n",
       "================================================================="
      ]
     },
     "execution_count": 10,
     "metadata": {},
     "output_type": "execute_result"
    }
   ],
   "source": [
    "from torchsummary import summary\n",
    "summary(model)"
   ]
  },
  {
   "cell_type": "code",
   "execution_count": null,
   "metadata": {},
   "outputs": [],
   "source": []
  }
 ],
 "metadata": {
  "kernelspec": {
   "display_name": "Python 3",
   "language": "python",
   "name": "python3"
  },
  "language_info": {
   "codemirror_mode": {
    "name": "ipython",
    "version": 3
   },
   "file_extension": ".py",
   "mimetype": "text/x-python",
   "name": "python",
   "nbconvert_exporter": "python",
   "pygments_lexer": "ipython3",
   "version": "3.11.0rc1"
  }
 },
 "nbformat": 4,
 "nbformat_minor": 2
}
