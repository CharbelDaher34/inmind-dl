{
 "cells": [
  {
   "cell_type": "markdown",
   "metadata": {},
   "source": [
    "https://github.com/aladdinpersson/Machine-Learning-Collection/blob/master/ML/Pytorch/object_detection/YOLO/model.py\n"
   ]
  },
  {
   "cell_type": "code",
   "execution_count": 1,
   "metadata": {},
   "outputs": [],
   "source": [
    "## Input\n",
    "### Import libraries\n",
    "import torch\n",
    "import torch.nn as nn\n",
    "import torch.optim as optim"
   ]
  },
  {
   "cell_type": "code",
   "execution_count": 2,
   "metadata": {},
   "outputs": [],
   "source": [
    "class MiniBlock(nn.Module):\n",
    "    def __init__(self,in_channels,num_filters,kernel_size,stride,padding):\n",
    "        super(MiniBlock, self).__init__()\n",
    "        self.conv=nn.Conv2d(in_channels=in_channels,out_channels= num_filters,kernel_size=kernel_size,stride=stride,padding=padding,bias =False)\n",
    "        self.batchnorm=nn.BatchNorm2d(num_filters)\n",
    "        self.leakyrelu=nn.LeakyReLU(0.1)\n",
    "\n",
    "    def forward(self,x):\n",
    "        x=self.conv(x)\n",
    "        x=self.batchnorm(x)\n",
    "        x=self.leakyrelu(x)\n",
    "        return x"
   ]
  },
  {
   "cell_type": "code",
   "execution_count": 3,
   "metadata": {},
   "outputs": [],
   "source": [
    "class yolov1(nn.Module):\n",
    "    def __init__(self):\n",
    "        super(yolov1, self).__init__()\n",
    "        self.max_pool = nn.MaxPool2d(kernel_size=2,stride=2)  # Max Pooling\n",
    "        \n",
    "        self.block1 = nn.Sequential(\n",
    "        MiniBlock(3,64,7,2,3),\n",
    "        self.max_pool       \n",
    "       )\n",
    "        self.block2 = nn.Sequential(\n",
    "        MiniBlock(64,192,3,1,1),   \n",
    "        self.max_pool       \n",
    "       )\n",
    "        self.block3 = nn.Sequential(\n",
    "        MiniBlock(192,128,1,1,0),\n",
    "        MiniBlock(128,256,3,1,1),\n",
    "        MiniBlock(256,256,1,1,0),\n",
    "        MiniBlock(256,512,3,1,1),\n",
    "        self.max_pool       \n",
    "       )\n",
    "       \n",
    "        self.block4 = nn.Sequential(\n",
    "        MiniBlock(512,256,1,1,0),\n",
    "        MiniBlock(256,512,3,1,1),\n",
    "        MiniBlock(512,256,1,1,0),\n",
    "        MiniBlock(256,512,3,1,1),\n",
    "        MiniBlock(512,256,1,1,0),\n",
    "        MiniBlock(256,512,3,1,1),\n",
    "        MiniBlock(512,256,1,1,0),\n",
    "        MiniBlock(256,512,3,1,1),\n",
    "        \n",
    "        \n",
    "        MiniBlock(512,512,1,1,0),\n",
    "        MiniBlock(512,1024,3,1,1),\n",
    "        self.max_pool       \n",
    "       )\n",
    "        self.block5 = nn.Sequential(\n",
    "        MiniBlock(1024,512,1,1,0),\n",
    "        MiniBlock(512,1024,3,1,1),\n",
    "        MiniBlock(1024,512,1,1,0),\n",
    "        MiniBlock(512,1024,3,1,1),  \n",
    "        MiniBlock(1024,1024,3,1,1),  \n",
    "        MiniBlock(1024,1024,3,2,1),  \n",
    "        \n",
    " \n",
    "       )\n",
    "        self.block6 = nn.Sequential(\n",
    "        MiniBlock(1024,1024,3,1,1),\n",
    "        MiniBlock(1024,1024,3,1,1),\n",
    "       )\n",
    "        self.beforeLastLayer = nn.Linear(7*7*1024, 4096)\n",
    "        self.lastLayer = nn.Linear(4096, 7*7*30)\n",
    "\n",
    "    def forward(self, x):\n",
    "        x = self.block1(x)  # \n",
    "        x = self.block2(x)  # \n",
    "        x = self.block3(x)  # \n",
    "        x = self.block4(x)  # \n",
    "        x = self.block5(x)  # \n",
    "        x = self.block6(x)  #\n",
    "        x = self.beforeLastLayer(torch.flatten(x, 1))\n",
    "        x = self.lastLayer(x)\n",
    "\n",
    "        return x\n",
    "    \n",
    "    def train(self,x,y):\n",
    "        ypred=self.forward(x)\n",
    "        return ypred\n",
    "        ypred=ypred.view(7, 7, 30)\n",
    "        return ypred\n",
    "\n"
   ]
  },
  {
   "cell_type": "code",
   "execution_count": 4,
   "metadata": {},
   "outputs": [],
   "source": [
    "image = torch.randn(3,3, 448, 448)\n",
    "yolo= yolov1()\n"
   ]
  },
  {
   "cell_type": "code",
   "execution_count": 5,
   "metadata": {},
   "outputs": [],
   "source": [
    "x=yolo(image)"
   ]
  },
  {
   "cell_type": "code",
   "execution_count": 6,
   "metadata": {},
   "outputs": [
    {
     "data": {
      "text/plain": [
       "tensor([[ 0.2219,  0.0919,  0.4093,  ..., -0.1397, -0.2831,  0.0606],\n",
       "        [ 0.0140, -0.2537,  0.1544,  ..., -0.1458, -0.1788,  0.0104],\n",
       "        [ 0.1872,  0.0469,  0.0126,  ..., -0.2412, -0.1021, -0.1140]],\n",
       "       grad_fn=<AddmmBackward0>)"
      ]
     },
     "execution_count": 6,
     "metadata": {},
     "output_type": "execute_result"
    }
   ],
   "source": [
    "yolo.train(image,[1])"
   ]
  },
  {
   "cell_type": "code",
   "execution_count": 7,
   "metadata": {},
   "outputs": [
    {
     "data": {
      "text/plain": [
       "torch.Size([3, 1470])"
      ]
     },
     "execution_count": 7,
     "metadata": {},
     "output_type": "execute_result"
    }
   ],
   "source": [
    "x.shape"
   ]
  },
  {
   "cell_type": "code",
   "execution_count": 8,
   "metadata": {},
   "outputs": [
    {
     "ename": "AttributeError",
     "evalue": "'int' object has no attribute 'shape'",
     "output_type": "error",
     "traceback": [
      "\u001b[0;31m---------------------------------------------------------------------------\u001b[0m",
      "\u001b[0;31mAttributeError\u001b[0m                            Traceback (most recent call last)",
      "Cell \u001b[0;32mIn[8], line 2\u001b[0m\n\u001b[1;32m      1\u001b[0m \u001b[38;5;28;01mfor\u001b[39;00m i,image \u001b[38;5;129;01min\u001b[39;00m \u001b[38;5;28menumerate\u001b[39m(x):\n\u001b[0;32m----> 2\u001b[0m     \u001b[38;5;28mprint\u001b[39m(\u001b[43mi\u001b[49m\u001b[38;5;241;43m.\u001b[39;49m\u001b[43mshape\u001b[49m)\n",
      "\u001b[0;31mAttributeError\u001b[0m: 'int' object has no attribute 'shape'"
     ]
    }
   ],
   "source": [
    "for i,image in enumerate(x):\n",
    "    print(i.shape)"
   ]
  },
  {
   "cell_type": "code",
   "execution_count": null,
   "metadata": {},
   "outputs": [],
   "source": []
  }
 ],
 "metadata": {
  "kernelspec": {
   "display_name": "Python 3",
   "language": "python",
   "name": "python3"
  },
  "language_info": {
   "codemirror_mode": {
    "name": "ipython",
    "version": 3
   },
   "file_extension": ".py",
   "mimetype": "text/x-python",
   "name": "python",
   "nbconvert_exporter": "python",
   "pygments_lexer": "ipython3",
   "version": "3.11.0"
  }
 },
 "nbformat": 4,
 "nbformat_minor": 2
}
